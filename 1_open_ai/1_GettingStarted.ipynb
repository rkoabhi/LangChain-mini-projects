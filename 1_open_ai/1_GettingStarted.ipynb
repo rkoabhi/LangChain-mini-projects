{
 "cells": [
  {
   "cell_type": "markdown",
   "metadata": {},
   "source": [
    "#### Getting started With Langchain And Open AI\n",
    "\n",
    "In this quickstart we'll see how to:\n",
    "\n",
    "- Get setup with LangChain, LangSmith and LangServe\n",
    "- Use the most basic and common components of LangChain: prompt templates, models, and output parsers.\n",
    "- Build a simple application with LangChain\n",
    "- Trace your application with LangSmith\n",
    "- Serve your application with LangServe"
   ]
  },
  {
   "cell_type": "code",
   "execution_count": 1,
   "metadata": {},
   "outputs": [],
   "source": [
    "import os\n",
    "from dotenv import load_dotenv\n",
    "load_dotenv()\n",
    "\n",
    "os.environ['OPENAI_API_KEY']=os.getenv(\"OPENAI_API_KEY\")\n",
    "## Langsmith Tracking\n",
    "os.environ[\"LANGCHAIN_API_KEY\"]=os.getenv(\"LANGCHAIN_API_KEY\")\n",
    "os.environ[\"LANGCHAIN_TRACING_V2\"]=\"true\"\n",
    "os.environ[\"LANGCHAIN_PROJECT\"]=os.getenv(\"LANGCHAIN_PROJECT\")"
   ]
  },
  {
   "cell_type": "code",
   "execution_count": 2,
   "metadata": {},
   "outputs": [
    {
     "name": "stdout",
     "output_type": "stream",
     "text": [
      "client=<openai.resources.chat.completions.Completions object at 0x000002392827F310> async_client=<openai.resources.chat.completions.AsyncCompletions object at 0x00000239282B53F0> root_client=<openai.OpenAI object at 0x000002392823DE10> root_async_client=<openai.AsyncOpenAI object at 0x000002392827F340> model_name='gpt-4o' openai_api_key=SecretStr('**********') openai_proxy=''\n"
     ]
    }
   ],
   "source": [
    "from langchain_openai import ChatOpenAI\n",
    "llm=ChatOpenAI(model=\"gpt-4o\")\n",
    "print(llm)"
   ]
  },
  {
   "cell_type": "code",
   "execution_count": 3,
   "metadata": {},
   "outputs": [],
   "source": [
    "## Input and get response form LLM\n",
    "\n",
    "result=llm.invoke(\"What is generative AI?\") "
   ]
  },
  {
   "cell_type": "code",
   "execution_count": 4,
   "metadata": {},
   "outputs": [
    {
     "name": "stdout",
     "output_type": "stream",
     "text": [
      "content='Generative AI refers to a class of artificial intelligence systems designed to generate new content. These systems learn from a dataset and can produce text, images, music, and other media that resemble the training data. Unlike traditional AI, which typically focuses on recognizing patterns or making decisions, generative AI creates new artifacts that can be novel and complex.\\n\\nAt its core, generative AI leverages models like Generative Adversarial Networks (GANs), Variational Autoencoders (VAEs), and transformer-based architectures such as GPT (Generative Pre-trained Transformer). These models can be used in various applications, including:\\n\\n1. **Text Generation:** Producing human-like text for chatbots, content creation, and more.\\n2. **Image Generation:** Creating realistic images, art, or even altering existing images.\\n3. **Music and Audio Generation:** Composing music or generating realistic speech.\\n4. **Data Augmentation:** Enhancing datasets by generating new examples to improve machine learning models.\\n\\nGenerative AI has gained significant attention due to its ability to produce highly realistic and creative outputs, but it also raises ethical and practical considerations, such as potential misuse and the need for responsible deployment.' additional_kwargs={'refusal': None} response_metadata={'token_usage': {'completion_tokens': 237, 'prompt_tokens': 13, 'total_tokens': 250, 'prompt_tokens_details': {'cached_tokens': 0, 'audio_tokens': 0}, 'completion_tokens_details': {'reasoning_tokens': 0, 'audio_tokens': 0, 'accepted_prediction_tokens': 0, 'rejected_prediction_tokens': 0}}, 'model_name': 'gpt-4o-2024-08-06', 'system_fingerprint': 'fp_45cf54deae', 'finish_reason': 'stop', 'logprobs': None} id='run-0fbc27ac-8291-4773-bd58-cd8be4f6ace4-0' usage_metadata={'input_tokens': 13, 'output_tokens': 237, 'total_tokens': 250}\n"
     ]
    }
   ],
   "source": [
    "print(result)"
   ]
  },
  {
   "cell_type": "code",
   "execution_count": null,
   "metadata": {},
   "outputs": [
    {
     "data": {
      "text/plain": [
       "ChatPromptTemplate(input_variables=['input'], messages=[SystemMessagePromptTemplate(prompt=PromptTemplate(input_variables=[], template='You are an expert in writing code. Provide me answers based on the questions')), HumanMessagePromptTemplate(prompt=PromptTemplate(input_variables=['input'], template='{input}'))])"
      ]
     },
     "execution_count": 5,
     "metadata": {},
     "output_type": "execute_result"
    }
   ],
   "source": [
    "### Chatprompt Template\n",
    "# this is like telling LLM to behave in a particular way\n",
    "from langchain_core.prompts import ChatPromptTemplate\n",
    "# below system is the LLM model\n",
    "#\n",
    "prompt=ChatPromptTemplate.from_messages(\n",
    "    [\n",
    "        (\"system\",\"You are an expert in writing code. Provide me answers based on the questions\"),\n",
    "        (\"user\",\"{input}\")\n",
    "    ]\n",
    "\n",
    ")\n",
    "prompt"
   ]
  },
  {
   "cell_type": "code",
   "execution_count": 7,
   "metadata": {},
   "outputs": [
    {
     "name": "stdout",
     "output_type": "stream",
     "text": [
      "content='Certainly! In Python, decorators are a powerful tool that allows you to modify or enhance the behavior of functions or methods without changing their actual code. They are often used for cross-cutting concerns like logging, access control, instrumentation, or caching.\\n\\n### How Decorators Work\\n\\nA decorator is essentially a function that takes another function as an argument, and returns a new function that usually extends the behavior of the original function in some way. Here\\'s the basic syntax:\\n\\n```python\\ndef decorator_function(original_function):\\n    def wrapper_function(*args, **kwargs):\\n        # Code to execute before the original function\\n        result = original_function(*args, **kwargs)\\n        # Code to execute after the original function\\n        return result\\n    return wrapper_function\\n```\\n\\nYou apply a decorator to a function using the `@decorator_name` syntax:\\n\\n```python\\n@decorator_function\\ndef some_function():\\n    print(\"This is some function.\")\\n\\n# This is equivalent to\\n# some_function = decorator_function(some_function)\\n```\\n\\n### Example\\n\\nHere\\'s a simple example of a decorator that logs the execution of a function:\\n\\n```python\\ndef log_decorator(func):\\n    def wrapper(*args, **kwargs):\\n        print(f\"Calling function \\'{func.__name__}\\' with arguments {args} and {kwargs}\")\\n        result = func(*args, **kwargs)\\n        print(f\"Function \\'{func.__name__}\\' returned {result}\")\\n        return result\\n    return wrapper\\n\\n@log_decorator\\ndef add(x, y):\\n    return x + y\\n\\n# Usage\\nadd(3, 4)\\n```\\n\\nOutput:\\n```\\nCalling function \\'add\\' with arguments (3, 4) and {}\\nFunction \\'add\\' returned 7\\n```\\n\\n### Types of Decorators\\n\\n1. **Function Decorators**: These are used to decorate standalone functions.\\n2. **Method Decorators**: These work on methods within classes.\\n3. **Class Decorators**: These are used to decorate whole classes.\\n\\n### Using `functools.wraps`\\n\\nWhen writing decorators, it\\'s common to use `functools.wraps` to preserve the original function\\'s metadata (like its name and docstring). Here\\'s how you can use it:\\n\\n```python\\nfrom functools import wraps\\n\\ndef log_decorator(func):\\n    @wraps(func)\\n    def wrapper(*args, **kwargs):\\n        print(f\"Calling function \\'{func.__name__}\\' with arguments {args} and {kwargs}\")\\n        result = func(*args, **kwargs)\\n        print(f\"Function \\'{func.__name__}\\' returned {result}\")\\n        return result\\n    return wrapper\\n```\\n\\n### Common Use Cases\\n\\n- **Logging**: Record the activities of a function.\\n- **Access Control and Authentication**: Check if a user is authorized to execute a function.\\n- **Caching**: Store results of expensive function calls and return the cached result when the same inputs occur again.\\n- **Instrumentation and Timing**: Measure the execution time of functions.\\n\\nDecorators provide a clean and readable way to implement these patterns in Python.' additional_kwargs={'refusal': None} response_metadata={'token_usage': {'completion_tokens': 628, 'prompt_tokens': 35, 'total_tokens': 663, 'prompt_tokens_details': {'cached_tokens': 0, 'audio_tokens': 0}, 'completion_tokens_details': {'reasoning_tokens': 0, 'audio_tokens': 0, 'accepted_prediction_tokens': 0, 'rejected_prediction_tokens': 0}}, 'model_name': 'gpt-4o-2024-08-06', 'system_fingerprint': 'fp_45cf54deae', 'finish_reason': 'stop', 'logprobs': None} id='run-bf02e6a8-66d7-4099-8d67-759e367f8bbf-0' usage_metadata={'input_tokens': 35, 'output_tokens': 628, 'total_tokens': 663}\n"
     ]
    }
   ],
   "source": [
    "## chain \n",
    "#combine prompt with the LLM\n",
    "chain=prompt|llm\n",
    "\n",
    "response=chain.invoke({\"input\":\"Can you tell me about decorators in python?\"})\n",
    "print(response)"
   ]
  },
  {
   "cell_type": "code",
   "execution_count": 8,
   "metadata": {},
   "outputs": [
    {
     "data": {
      "text/plain": [
       "langchain_core.messages.ai.AIMessage"
      ]
     },
     "execution_count": 8,
     "metadata": {},
     "output_type": "execute_result"
    }
   ],
   "source": [
    "type(response)"
   ]
  },
  {
   "cell_type": "code",
   "execution_count": 9,
   "metadata": {},
   "outputs": [
    {
     "name": "stdout",
     "output_type": "stream",
     "text": [
      "Certainly! In Python, decorators are a very powerful and useful tool for modifying the behavior of functions or classes. They allow you to wrap another function or class, modifying its behavior without changing its source code. Decorators are often used for logging, access control, instrumentation, caching, and more.\n",
      "\n",
      "Here’s a brief overview of how decorators work:\n",
      "\n",
      "### Basic Syntax\n",
      "\n",
      "A decorator is a function that takes another function as an argument and returns a new function that usually extends or alters the behavior of the original function. Here’s a simple example:\n",
      "\n",
      "```python\n",
      "def my_decorator(func):\n",
      "    def wrapper():\n",
      "        print(\"Something is happening before the function is called.\")\n",
      "        func()\n",
      "        print(\"Something is happening after the function is called.\")\n",
      "    return wrapper\n",
      "\n",
      "@my_decorator\n",
      "def say_hello():\n",
      "    print(\"Hello!\")\n",
      "\n",
      "say_hello()\n",
      "```\n",
      "\n",
      "In this example, `my_decorator` is a decorator that wraps the `say_hello` function. When `say_hello` is called, the `wrapper` function inside `my_decorator` is executed, adding behavior before and after the call to the original `say_hello` function.\n",
      "\n",
      "### Using Decorators\n",
      "\n",
      "- **With the `@` Syntax**: This is the most common and convenient way to apply decorators. You simply use the `@decorator_name` syntax above the function definition.\n",
      "\n",
      "- **Without the `@` Syntax**: You can also apply a decorator manually by passing the function to the decorator:\n",
      "\n",
      "  ```python\n",
      "  decorated_function = my_decorator(say_hello)\n",
      "  decorated_function()\n",
      "  ```\n",
      "\n",
      "### Decorators with Arguments\n",
      "\n",
      "Sometimes, you may want your decorators to accept arguments. In this case, you need to add an additional layer of functions:\n",
      "\n",
      "```python\n",
      "def repeat(num_times):\n",
      "    def decorator_repeat(func):\n",
      "        def wrapper(*args, **kwargs):\n",
      "            for _ in range(num_times):\n",
      "                func(*args, **kwargs)\n",
      "        return wrapper\n",
      "    return decorator_repeat\n",
      "\n",
      "@repeat(3)\n",
      "def greet(name):\n",
      "    print(f\"Hello, {name}!\")\n",
      "\n",
      "greet(\"Alice\")\n",
      "```\n",
      "\n",
      "In this example, the `repeat` decorator takes an argument `num_times` and returns a decorator that repeats the execution of the decorated function `num_times` times.\n",
      "\n",
      "### Class Decorators\n",
      "\n",
      "Decorators can also be applied to classes. They are used in a similar way but typically involve more complex behavior modifications.\n",
      "\n",
      "```python\n",
      "def add_str_method(cls):\n",
      "    cls.__str__ = lambda self: f\"Instance of {cls.__name__}, vars: {vars(self)}\"\n",
      "    return cls\n",
      "\n",
      "@add_str_method\n",
      "class MyClass:\n",
      "    def __init__(self, x, y):\n",
      "        self.x = x\n",
      "        self.y = y\n",
      "\n",
      "obj = MyClass(5, 10)\n",
      "print(obj)\n",
      "```\n",
      "\n",
      "### Built-in Decorators\n",
      "\n",
      "Python provides several built-in decorators, such as:\n",
      "\n",
      "- `@staticmethod`: Defines a method that doesn't receive an implicit first argument.\n",
      "- `@classmethod`: Defines a method that receives the class as the first argument instead of an instance.\n",
      "- `@property`: Used to define getters, setters, and deleters for class attributes.\n",
      "\n",
      "Decorators are a powerful feature in Python that can significantly enhance the modularity and flexibility of your code by allowing you to separate concerns and apply cross-cutting concerns like logging, authentication, etc.\n"
     ]
    }
   ],
   "source": [
    "## stroutput Parser\n",
    "#how to display the output can be done using the output parser\n",
    "\n",
    "from langchain_core.output_parsers import StrOutputParser\n",
    "output_parser=StrOutputParser()\n",
    "chain=prompt|llm|output_parser\n",
    "\n",
    "response=chain.invoke({\"input\":\"Can you tell me about decorators in python?\"})\n",
    "print(response)"
   ]
  },
  {
   "cell_type": "code",
   "execution_count": null,
   "metadata": {},
   "outputs": [],
   "source": []
  },
  {
   "cell_type": "code",
   "execution_count": null,
   "metadata": {},
   "outputs": [],
   "source": []
  },
  {
   "cell_type": "code",
   "execution_count": null,
   "metadata": {},
   "outputs": [],
   "source": []
  },
  {
   "cell_type": "code",
   "execution_count": null,
   "metadata": {},
   "outputs": [],
   "source": []
  },
  {
   "cell_type": "code",
   "execution_count": null,
   "metadata": {},
   "outputs": [],
   "source": []
  },
  {
   "cell_type": "code",
   "execution_count": null,
   "metadata": {},
   "outputs": [],
   "source": []
  },
  {
   "cell_type": "code",
   "execution_count": null,
   "metadata": {},
   "outputs": [],
   "source": []
  },
  {
   "cell_type": "code",
   "execution_count": null,
   "metadata": {},
   "outputs": [],
   "source": []
  },
  {
   "cell_type": "code",
   "execution_count": null,
   "metadata": {},
   "outputs": [],
   "source": []
  }
 ],
 "metadata": {
  "kernelspec": {
   "display_name": "Python 3",
   "language": "python",
   "name": "python3"
  },
  "language_info": {
   "codemirror_mode": {
    "name": "ipython",
    "version": 3
   },
   "file_extension": ".py",
   "mimetype": "text/x-python",
   "name": "python",
   "nbconvert_exporter": "python",
   "pygments_lexer": "ipython3",
   "version": "3.10.0"
  }
 },
 "nbformat": 4,
 "nbformat_minor": 2
}
